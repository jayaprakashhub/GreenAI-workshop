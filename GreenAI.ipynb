{
 "cells": [
  {
   "cell_type": "code",
   "execution_count": 12,
   "id": "52f86ad0-c23a-465f-9e6b-03ce56f34f7b",
   "metadata": {},
   "outputs": [
    {
     "name": "stdin",
     "output_type": "stream",
     "text": [
      "Enter the number: 20\n"
     ]
    },
    {
     "name": "stdout",
     "output_type": "stream",
     "text": [
      "[1, 2, 4, 5, 10, 20]\n"
     ]
    }
   ],
   "source": [
    "def factors(n):\n",
    "    fact = []\n",
    "    for i in range(1,n+1):\n",
    "        if n%i == 0:\n",
    "            fact.append(i)\n",
    "    return fact\n",
    "\n",
    "n = int(input(\"Enter the number:\"))\n",
    "print(factors(n))"
   ]
  },
  {
   "cell_type": "code",
   "execution_count": 15,
   "id": "ebdc73f0-8319-42e0-baf6-5c3e72c2a732",
   "metadata": {},
   "outputs": [
    {
     "name": "stdin",
     "output_type": "stream",
     "text": [
      "enter a number: 5\n"
     ]
    },
    {
     "name": "stdout",
     "output_type": "stream",
     "text": [
      "True\n"
     ]
    }
   ],
   "source": [
    "def isPrime(num):\n",
    "    if factors(num) == [1,num]:\n",
    "        return True\n",
    "    else:\n",
    "        return False\n",
    "num = int(input(\"enter a number:\"))\n",
    "print(isPrime(num))"
   ]
  },
  {
   "cell_type": "code",
   "execution_count": 18,
   "id": "3f4e1308-6a77-493b-80b2-0d65de3c2f9e",
   "metadata": {},
   "outputs": [
    {
     "name": "stdin",
     "output_type": "stream",
     "text": [
      "enter the number 100\n"
     ]
    },
    {
     "name": "stdout",
     "output_type": "stream",
     "text": [
      "1060\n"
     ]
    }
   ],
   "source": [
    "def sumPrime(num):\n",
    "    sum =0\n",
    "    for i in range (2,num):\n",
    "        if(isPrime(i)):\n",
    "            sum +=i\n",
    "    return sum\n",
    "num = int(input(\"enter the number\"))\n",
    "print(sumPrime(num))"
   ]
  },
  {
   "cell_type": "code",
   "execution_count": 20,
   "id": "3b9f0d01-d5ff-4ea8-8aa3-064e6aa44a1c",
   "metadata": {},
   "outputs": [
    {
     "name": "stdin",
     "output_type": "stream",
     "text": [
      "enter the number 10\n"
     ]
    },
    {
     "name": "stdout",
     "output_type": "stream",
     "text": [
      "27\n"
     ]
    }
   ],
   "source": [
    "def sumnonPrime(num):\n",
    "    sum =0\n",
    "    for i in range (2,num):\n",
    "        if(isPrime(i)):\n",
    "            continue\n",
    "        else:\n",
    "            sum +=i\n",
    "    return sum\n",
    "num = int(input(\"enter the number\"))\n",
    "print(sumnonPrime(num))"
   ]
  },
  {
   "cell_type": "code",
   "execution_count": 24,
   "id": "28bc01d8-a317-48c4-a06b-88ec41de8fb2",
   "metadata": {},
   "outputs": [
    {
     "name": "stdin",
     "output_type": "stream",
     "text": [
      "enter the number 123\n"
     ]
    },
    {
     "name": "stdout",
     "output_type": "stream",
     "text": [
      "sum: 6\n"
     ]
    }
   ],
   "source": [
    "n = input(\"enter the number\")\n",
    "sum = 0\n",
    "for i in n:\n",
    "    sum +=int(i)\n",
    "print(\"sum:\",sum)"
   ]
  },
  {
   "cell_type": "code",
   "execution_count": 28,
   "id": "90229ad7-6976-425b-846c-285446a686da",
   "metadata": {},
   "outputs": [
    {
     "name": "stdin",
     "output_type": "stream",
     "text": [
      "enter the number 123\n"
     ]
    },
    {
     "name": "stdout",
     "output_type": "stream",
     "text": [
      "sum: 6\n"
     ]
    }
   ],
   "source": [
    "def sumofnum(n):\n",
    "    sum =0\n",
    "    while n>0:\n",
    "        a = n%10\n",
    "        sum +=a\n",
    "        n=n//10\n",
    "    return sum\n",
    "n= int(input(\"enter the number\"))\n",
    "print(\"sum:\",sumofnum(n))"
   ]
  },
  {
   "cell_type": "code",
   "execution_count": 35,
   "id": "c603168d-c1d3-4f39-b4c2-8080d1ea6f2c",
   "metadata": {},
   "outputs": [
    {
     "name": "stdin",
     "output_type": "stream",
     "text": [
      "enter the number 2222\n"
     ]
    },
    {
     "name": "stdout",
     "output_type": "stream",
     "text": [
      "sum: 16\n"
     ]
    }
   ],
   "source": [
    "def prodofnum(n):\n",
    "    sum =1\n",
    "    while n>0:\n",
    "        a = n%10\n",
    "        sum *=a\n",
    "        n=n//10\n",
    "    return sum\n",
    "n= int(input(\"enter the number\"))\n",
    "print(\"sum:\",prodofnum(n))"
   ]
  },
  {
   "cell_type": "code",
   "execution_count": 38,
   "id": "a3a22e58-60f6-45ec-b17d-534176fa4779",
   "metadata": {},
   "outputs": [
    {
     "name": "stdout",
     "output_type": "stream",
     "text": [
      "IndiA IS MY CountrY\n"
     ]
    }
   ],
   "source": [
    "def captilaze(sen):\n",
    "    a =sen.split()\n",
    "    b=[]\n",
    "    for word in a:\n",
    "        if len(word)> 1:\n",
    "            word = word[0].upper() + word[1:-1]+word[-1].upper()\n",
    "        else:\n",
    "            word = word[0].upper()\n",
    "        b.append(word)\n",
    "    return ' '.join(b)\n",
    "sen= \"india is my country\"\n",
    "print(captilaze(sen))"
   ]
  },
  {
   "cell_type": "code",
   "execution_count": 1,
   "id": "98c29eef-69a6-4ccf-8dfe-9cb8c8c4d0b5",
   "metadata": {},
   "outputs": [
    {
     "name": "stdout",
     "output_type": "stream",
     "text": [
      "Hello world\n"
     ]
    }
   ],
   "source": [
    "print(\"Hello world\")"
   ]
  },
  {
   "cell_type": "code",
   "execution_count": null,
   "id": "fc44ff0f-9320-4cd3-9315-911be1d79801",
   "metadata": {},
   "outputs": [],
   "source": []
  }
 ],
 "metadata": {
  "kernelspec": {
   "display_name": "Python 3 (ipykernel)",
   "language": "python",
   "name": "python3"
  },
  "language_info": {
   "codemirror_mode": {
    "name": "ipython",
    "version": 3
   },
   "file_extension": ".py",
   "mimetype": "text/x-python",
   "name": "python",
   "nbconvert_exporter": "python",
   "pygments_lexer": "ipython3",
   "version": "3.12.7"
  }
 },
 "nbformat": 4,
 "nbformat_minor": 5
}
